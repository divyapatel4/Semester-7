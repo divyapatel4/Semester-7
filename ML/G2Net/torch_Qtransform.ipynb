{
 "cells": [
  {
   "cell_type": "code",
   "execution_count": 12,
   "metadata": {},
   "outputs": [
    {
     "name": "stdout",
     "output_type": "stream",
     "text": [
      "Model: \"model_2\"\n",
      "__________________________________________________________________________________________________\n",
      " Layer (type)                Output Shape                 Param #   Connected to                  \n",
      "==================================================================================================\n",
      " input_virgo (InputLayer)    [(None, 2048, 1)]            0         []                            \n",
      "                                                                                                  \n",
      " input_livingston (InputLay  [(None, 2048, 1)]            0         []                            \n",
      " er)                                                                                              \n",
      "                                                                                                  \n",
      " input_hanford (InputLayer)  [(None, 2048, 1)]            0         []                            \n",
      "                                                                                                  \n",
      " lstm_18 (LSTM)              (None, 2048, 128)            66560     ['input_virgo[0][0]']         \n",
      "                                                                                                  \n",
      " lstm_21 (LSTM)              (None, 2048, 128)            66560     ['input_livingston[0][0]']    \n",
      "                                                                                                  \n",
      " lstm_24 (LSTM)              (None, 2048, 128)            66560     ['input_hanford[0][0]']       \n",
      "                                                                                                  \n",
      " lstm_19 (LSTM)              (None, 2048, 128)            131584    ['lstm_18[0][0]']             \n",
      "                                                                                                  \n",
      " lstm_22 (LSTM)              (None, 2048, 128)            131584    ['lstm_21[0][0]']             \n",
      "                                                                                                  \n",
      " lstm_25 (LSTM)              (None, 2048, 128)            131584    ['lstm_24[0][0]']             \n",
      "                                                                                                  \n",
      " lstm_20 (LSTM)              (None, 128)                  131584    ['lstm_19[0][0]']             \n",
      "                                                                                                  \n",
      " lstm_23 (LSTM)              (None, 128)                  131584    ['lstm_22[0][0]']             \n",
      "                                                                                                  \n",
      " lstm_26 (LSTM)              (None, 128)                  131584    ['lstm_25[0][0]']             \n",
      "                                                                                                  \n",
      " dense_8 (Dense)             (None, 128)                  16512     ['lstm_20[0][0]']             \n",
      "                                                                                                  \n",
      " dense_9 (Dense)             (None, 128)                  16512     ['lstm_23[0][0]']             \n",
      "                                                                                                  \n",
      " dense_10 (Dense)            (None, 128)                  16512     ['lstm_26[0][0]']             \n",
      "                                                                                                  \n",
      " concatenate_2 (Concatenate  (None, 384)                  0         ['dense_8[0][0]',             \n",
      " )                                                                   'dense_9[0][0]',             \n",
      "                                                                     'dense_10[0][0]']            \n",
      "                                                                                                  \n",
      " dense_11 (Dense)            (None, 1)                    385       ['concatenate_2[0][0]']       \n",
      "                                                                                                  \n",
      "==================================================================================================\n",
      "Total params: 1039105 (3.96 MB)\n",
      "Trainable params: 1039105 (3.96 MB)\n",
      "Non-trainable params: 0 (0.00 Byte)\n",
      "__________________________________________________________________________________________________\n",
      "You must install pydot (`pip install pydot`) and install graphviz (see instructions at https://graphviz.gitlab.io/download/) for plot_model to work.\n"
     ]
    }
   ],
   "source": [
    "import tensorflow as tf\n",
    "from tensorflow.keras import layers, Model\n",
    "from tensorflow.keras import regularizers\n",
    "\n",
    "# Define the input shape\n",
    "input_shape = (2048, 1)\n",
    "\n",
    "# Create the inputs\n",
    "input_virgo = layers.Input(shape=input_shape, name='input_virgo')\n",
    "input_livingston = layers.Input(shape=input_shape, name='input_livingston')\n",
    "input_hanford = layers.Input(shape=input_shape, name='input_hanford')\n",
    "\n",
    "# Virgo use LSTM to extract features\n",
    "x = layers.LSTM(128, return_sequences=True)(input_virgo)\n",
    "x = layers.LSTM(128, return_sequences=True)(x)\n",
    "x = layers.LSTM(128)(x)\n",
    "x = layers.Dense(128, activation='relu')(x)\n",
    "\n",
    "# Livingston use LSTM to extract features\n",
    "y = layers.LSTM(128, return_sequences=True)(input_livingston)\n",
    "y = layers.LSTM(128, return_sequences=True)(y)\n",
    "y = layers.LSTM(128)(y)\n",
    "y = layers.Dense(128, activation='relu')(y)\n",
    "\n",
    "# Hanford use LSTM to extract features\n",
    "z = layers.LSTM(128, return_sequences=True)(input_hanford)\n",
    "z = layers.LSTM(128, return_sequences=True)(z)\n",
    "z = layers.LSTM(128)(z)\n",
    "z = layers.Dense(128, activation='relu')(z)\n",
    "\n",
    "# Concatenate the features\n",
    "concat = layers.concatenate([x, y, z])\n",
    "    \n",
    "# Use Dense layer to classify   \n",
    "output = layers.Dense(1, activation='sigmoid')(concat)\n",
    "\n",
    "model = Model(inputs=[input_virgo, input_livingston, input_hanford], outputs=output)\n",
    "\n",
    "# Compile the model\n",
    "model.compile(optimizer='adam',\n",
    "              loss='binary_crossentropy',\n",
    "              metrics=['accuracy'])\n",
    "\n",
    "# Print the model summary\n",
    "model.summary()\n",
    "\n",
    "# Plot the model architecture\n",
    "tf.keras.utils.plot_model(model, show_shapes=True)\n",
    "\n",
    "from tensorflow.keras.utils import plot_model\n",
    "\n",
    "\n",
    "# Plot the model architecture\n",
    "plot_model(model, to_file='model.png', show_shapes=True, show_layer_names=True)\n"
   ]
  },
  {
   "cell_type": "code",
   "execution_count": 13,
   "metadata": {},
   "outputs": [
    {
     "name": "stdout",
     "output_type": "stream",
     "text": [
      "You must install pydot (`pip install pydot`) and install graphviz (see instructions at https://graphviz.gitlab.io/download/) for plot_model to work.\n"
     ]
    }
   ],
   "source": [
    "from tensorflow.keras.utils import plot_model\n",
    "\n",
    "\n",
    "# Plot the model architecture\n",
    "plot_model(model, to_file='model.png', show_shapes=True, show_layer_names=True)\n"
   ]
  },
  {
   "cell_type": "code",
   "execution_count": 2,
   "metadata": {},
   "outputs": [
    {
     "name": "stdout",
     "output_type": "stream",
     "text": [
      "Creating CQT kernels ...\r"
     ]
    },
    {
     "ename": "AttributeError",
     "evalue": "module 'numpy' has no attribute 'float'.\n`np.float` was a deprecated alias for the builtin `float`. To avoid this error in existing code, use `float` by itself. Doing this will not modify any behavior and is safe. If you specifically wanted the numpy scalar type, use `np.float64` here.\nThe aliases was originally deprecated in NumPy 1.20; for more details and guidance see the original release note at:\n    https://numpy.org/devdocs/release/1.20.0-notes.html#deprecations",
     "output_type": "error",
     "traceback": [
      "\u001b[0;31m---------------------------------------------------------------------------\u001b[0m",
      "\u001b[0;31mAttributeError\u001b[0m                            Traceback (most recent call last)",
      "Cell \u001b[0;32mIn[2], line 5\u001b[0m\n\u001b[1;32m      2\u001b[0m \u001b[39mfrom\u001b[39;00m \u001b[39mnnAudio\u001b[39;00m\u001b[39m.\u001b[39;00m\u001b[39mSpectrogram\u001b[39;00m \u001b[39mimport\u001b[39;00m CQT1992v2\n\u001b[1;32m      3\u001b[0m \u001b[39mimport\u001b[39;00m \u001b[39mnumpy\u001b[39;00m \u001b[39mas\u001b[39;00m \u001b[39mnp\u001b[39;00m\n\u001b[0;32m----> 5\u001b[0m \u001b[39mdef\u001b[39;00m \u001b[39mapply_qtransform\u001b[39m(waves, transform\u001b[39m=\u001b[39mCQT1992v2(sr\u001b[39m=\u001b[39;49m\u001b[39m2048\u001b[39;49m, fmin\u001b[39m=\u001b[39;49m\u001b[39m20\u001b[39;49m, fmax\u001b[39m=\u001b[39;49m\u001b[39m1024\u001b[39;49m, hop_length\u001b[39m=\u001b[39;49m\u001b[39m64\u001b[39;49m)):\n\u001b[1;32m      6\u001b[0m     waves \u001b[39m=\u001b[39m np\u001b[39m.\u001b[39mhstack(waves)\n\u001b[1;32m      7\u001b[0m     waves \u001b[39m=\u001b[39m waves \u001b[39m/\u001b[39m np\u001b[39m.\u001b[39mmax(waves)\n",
      "File \u001b[0;32m/opt/homebrew/lib/python3.11/site-packages/nnAudio/features/cqt.py:688\u001b[0m, in \u001b[0;36mCQT1992v2.__init__\u001b[0;34m(self, sr, hop_length, fmin, fmax, n_bins, bins_per_octave, filter_scale, norm, window, center, pad_mode, trainable, output_format, verbose)\u001b[0m\n\u001b[1;32m    685\u001b[0m     \u001b[39mprint\u001b[39m(\u001b[39m\"\u001b[39m\u001b[39mCreating CQT kernels ...\u001b[39m\u001b[39m\"\u001b[39m, end\u001b[39m=\u001b[39m\u001b[39m\"\u001b[39m\u001b[39m\\r\u001b[39;00m\u001b[39m\"\u001b[39m)\n\u001b[1;32m    687\u001b[0m start \u001b[39m=\u001b[39m time()\n\u001b[0;32m--> 688\u001b[0m cqt_kernels, \u001b[39mself\u001b[39m\u001b[39m.\u001b[39mkernel_width, lenghts, freqs \u001b[39m=\u001b[39m create_cqt_kernels(\n\u001b[1;32m    689\u001b[0m     Q, sr, fmin, n_bins, bins_per_octave, norm, window, fmax\n\u001b[1;32m    690\u001b[0m )\n\u001b[1;32m    692\u001b[0m \u001b[39mself\u001b[39m\u001b[39m.\u001b[39mregister_buffer(\u001b[39m\"\u001b[39m\u001b[39mlenghts\u001b[39m\u001b[39m\"\u001b[39m, lenghts)\n\u001b[1;32m    693\u001b[0m \u001b[39mself\u001b[39m\u001b[39m.\u001b[39mfrequencies \u001b[39m=\u001b[39m freqs\n",
      "File \u001b[0;32m/opt/homebrew/lib/python3.11/site-packages/nnAudio/utils.py:433\u001b[0m, in \u001b[0;36mcreate_cqt_kernels\u001b[0;34m(Q, fs, fmin, n_bins, bins_per_octave, norm, window, fmax, topbin_check, gamma, pad_fft)\u001b[0m\n\u001b[1;32m    429\u001b[0m     warnings\u001b[39m.\u001b[39mwarn(\u001b[39m\"\u001b[39m\u001b[39mIf fmax is given, n_bins will be ignored\u001b[39m\u001b[39m\"\u001b[39m, \u001b[39mSyntaxWarning\u001b[39;00m)\n\u001b[1;32m    430\u001b[0m     n_bins \u001b[39m=\u001b[39m np\u001b[39m.\u001b[39mceil(\n\u001b[1;32m    431\u001b[0m         bins_per_octave \u001b[39m*\u001b[39m np\u001b[39m.\u001b[39mlog2(fmax \u001b[39m/\u001b[39m fmin)\n\u001b[1;32m    432\u001b[0m     )  \u001b[39m# Calculate the number of bins\u001b[39;00m\n\u001b[0;32m--> 433\u001b[0m     freqs \u001b[39m=\u001b[39m fmin \u001b[39m*\u001b[39m \u001b[39m2.0\u001b[39m \u001b[39m*\u001b[39m\u001b[39m*\u001b[39m (np\u001b[39m.\u001b[39mr_[\u001b[39m0\u001b[39m:n_bins] \u001b[39m/\u001b[39m np\u001b[39m.\u001b[39;49mfloat(bins_per_octave))\n\u001b[1;32m    435\u001b[0m \u001b[39mif\u001b[39;00m np\u001b[39m.\u001b[39mmax(freqs) \u001b[39m>\u001b[39m fs \u001b[39m/\u001b[39m \u001b[39m2\u001b[39m \u001b[39mand\u001b[39;00m topbin_check \u001b[39m==\u001b[39m \u001b[39mTrue\u001b[39;00m:\n\u001b[1;32m    436\u001b[0m     \u001b[39mraise\u001b[39;00m \u001b[39mValueError\u001b[39;00m(\n\u001b[1;32m    437\u001b[0m         \u001b[39m\"\u001b[39m\u001b[39mThe top bin \u001b[39m\u001b[39m{}\u001b[39;00m\u001b[39mHz has exceeded the Nyquist frequency, \u001b[39m\u001b[39m\\\u001b[39;00m\n\u001b[1;32m    438\u001b[0m \u001b[39m                      please reduce the n_bins\u001b[39m\u001b[39m\"\u001b[39m\u001b[39m.\u001b[39mformat(\n\u001b[1;32m    439\u001b[0m             np\u001b[39m.\u001b[39mmax(freqs)\n\u001b[1;32m    440\u001b[0m         )\n\u001b[1;32m    441\u001b[0m     )\n",
      "File \u001b[0;32m/opt/homebrew/lib/python3.11/site-packages/numpy/__init__.py:305\u001b[0m, in \u001b[0;36m__getattr__\u001b[0;34m(attr)\u001b[0m\n\u001b[1;32m    300\u001b[0m     warnings\u001b[39m.\u001b[39mwarn(\n\u001b[1;32m    301\u001b[0m         \u001b[39mf\u001b[39m\u001b[39m\"\u001b[39m\u001b[39mIn the future `np.\u001b[39m\u001b[39m{\u001b[39;00mattr\u001b[39m}\u001b[39;00m\u001b[39m` will be defined as the \u001b[39m\u001b[39m\"\u001b[39m\n\u001b[1;32m    302\u001b[0m         \u001b[39m\"\u001b[39m\u001b[39mcorresponding NumPy scalar.\u001b[39m\u001b[39m\"\u001b[39m, \u001b[39mFutureWarning\u001b[39;00m, stacklevel\u001b[39m=\u001b[39m\u001b[39m2\u001b[39m)\n\u001b[1;32m    304\u001b[0m \u001b[39mif\u001b[39;00m attr \u001b[39min\u001b[39;00m __former_attrs__:\n\u001b[0;32m--> 305\u001b[0m     \u001b[39mraise\u001b[39;00m \u001b[39mAttributeError\u001b[39;00m(__former_attrs__[attr])\n\u001b[1;32m    307\u001b[0m \u001b[39m# Importing Tester requires importing all of UnitTest which is not a\u001b[39;00m\n\u001b[1;32m    308\u001b[0m \u001b[39m# cheap import Since it is mainly used in test suits, we lazy import it\u001b[39;00m\n\u001b[1;32m    309\u001b[0m \u001b[39m# here to save on the order of 10 ms of import time for most users\u001b[39;00m\n\u001b[1;32m    310\u001b[0m \u001b[39m#\u001b[39;00m\n\u001b[1;32m    311\u001b[0m \u001b[39m# The previous way Tester was imported also had a side effect of adding\u001b[39;00m\n\u001b[1;32m    312\u001b[0m \u001b[39m# the full `numpy.testing` namespace\u001b[39;00m\n\u001b[1;32m    313\u001b[0m \u001b[39mif\u001b[39;00m attr \u001b[39m==\u001b[39m \u001b[39m'\u001b[39m\u001b[39mtesting\u001b[39m\u001b[39m'\u001b[39m:\n",
      "\u001b[0;31mAttributeError\u001b[0m: module 'numpy' has no attribute 'float'.\n`np.float` was a deprecated alias for the builtin `float`. To avoid this error in existing code, use `float` by itself. Doing this will not modify any behavior and is safe. If you specifically wanted the numpy scalar type, use `np.float64` here.\nThe aliases was originally deprecated in NumPy 1.20; for more details and guidance see the original release note at:\n    https://numpy.org/devdocs/release/1.20.0-notes.html#deprecations"
     ]
    }
   ],
   "source": [
    "import torch\n",
    "from nnAudio.Spectrogram import CQT1992v2\n",
    "import numpy as np\n",
    "\n",
    "def apply_qtransform(waves, transform=CQT1992v2(sr=2048, fmin=20, fmax=1024, hop_length=64)):\n",
    "    waves = np.hstack(waves)\n",
    "    waves = waves / np.max(waves)\n",
    "    waves = torch.from_numpy(waves).float()\n",
    "    image = transform(waves)\n",
    "    return image\n",
    "    "
   ]
  },
  {
   "cell_type": "code",
   "execution_count": null,
   "metadata": {},
   "outputs": [],
   "source": []
  }
 ],
 "metadata": {
  "kernelspec": {
   "display_name": "Python 3",
   "language": "python",
   "name": "python3"
  },
  "language_info": {
   "codemirror_mode": {
    "name": "ipython",
    "version": 3
   },
   "file_extension": ".py",
   "mimetype": "text/x-python",
   "name": "python",
   "nbconvert_exporter": "python",
   "pygments_lexer": "ipython3",
   "version": "3.11.2"
  },
  "orig_nbformat": 4
 },
 "nbformat": 4,
 "nbformat_minor": 2
}
